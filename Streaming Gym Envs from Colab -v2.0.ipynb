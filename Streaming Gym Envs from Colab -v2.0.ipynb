{
  "cells": [
    {
      "cell_type": "markdown",
      "metadata": {
        "id": "PnIPlCJPOuWb"
      },
      "source": [
        "# **Video Streaming Wrapper for OpenAI's Gym Environments**\n",
        "\n",
        "\n",
        "---\n",
        "\n",
        "\n",
        "#### **Introducing `gym-video-streamer` a python package for live streaming gym training process.**\n",
        "\n",
        "Now you can Live Stream the Agent's learning behavior to Twitch/YouTube from Google Colab while training these Agents.\n",
        "\n",
        "**GitHub repo - https://github.com/dhyeythumar/gym-video-streamer/**\n",
        "\n",
        "**PyPI - https://pypi.org/project/gym-video-streamer/1.0/**\n"
      ]
    },
    {
      "cell_type": "markdown",
      "metadata": {
        "id": "n0Hm-oE1-dwp"
      },
      "source": [
        "## **Gym Video Streaming Wrapper**"
      ]
    },
    {
      "cell_type": "code",
      "execution_count": null,
      "metadata": {
        "colab": {
          "base_uri": "https://localhost:8080/"
        },
        "id": "dDR2kSXoNELX",
        "outputId": "d445221e-a695-461d-90c8-9271f492c5d4"
      },
      "outputs": [],
      "source": [
        "!pip install gym-video-streamer"
      ]
    },
    {
      "cell_type": "code",
      "execution_count": null,
      "metadata": {
        "id": "2OiOz__sNGzi"
      },
      "outputs": [],
      "source": [
        "from gymnasium import gym\n",
        "from gym_video_streamer import SetupVirtualDisplay\n",
        "from gym_video_streamer import VideoStreamer  # Streaming Wrapper"
      ]
    },
    {
      "cell_type": "code",
      "execution_count": null,
      "metadata": {
        "colab": {
          "base_uri": "https://localhost:8080/"
        },
        "id": "t7xOMqsuNKlZ",
        "outputId": "9339c878-3203-49c9-9a71-f36fdf6b29a4"
      },
      "outputs": [
        {
          "name": "stdout",
          "output_type": "stream",
          "text": [
            "ffmpeg is already installed !\n",
            "Installing xvfb ...\n",
            "Installed all the required packages.\n",
            "Virtual Display Setup complete!\n"
          ]
        }
      ],
      "source": [
        "# Set-up the Virtual Display only required for Google Colab\n",
        "SetupVirtualDisplay()"
      ]
    },
    {
      "cell_type": "code",
      "execution_count": null,
      "metadata": {
        "id": "NFIcaD5lTqVy"
      },
      "outputs": [],
      "source": [
        "# !! This stream_info dictionary should be passed in this format only !!\n",
        "stream_info = {\n",
        "    \"URL\": \"rtmp://live.twitch.tv/app/\",\n",
        "    \"secret\": \"--- secret here ---\"\n",
        "}"
      ]
    },
    {
      "cell_type": "markdown",
      "metadata": {
        "id": "aK4oVF3Iobwh"
      },
      "source": [
        "## **Testing package for different gym env types**"
      ]
    },
    {
      "cell_type": "markdown",
      "metadata": {
        "id": "YGmTwRA8PdlE"
      },
      "source": [
        "### **Classic-control Gym Envs:**"
      ]
    },
    {
      "cell_type": "code",
      "execution_count": null,
      "metadata": {
        "colab": {
          "base_uri": "https://localhost:8080/"
        },
        "id": "_3Z_kBRl7Gc7",
        "outputId": "f2b89265-f795-4374-f1a4-258c566b5b4e"
      },
      "outputs": [
        {
          "name": "stdout",
          "output_type": "stream",
          "text": [
            "------------------------------------------------------------------------------------------------------------------------\n",
            "Video Streaming Wrapper is ready to stream!!\n"
          ]
        }
      ],
      "source": [
        "# => [min 100 episode for testing, so we can get see o/p on Twitch or else env episodes might complete before any frames were streamed (due to delay of few seconds)]\n",
        "env = VideoStreamer(gym.make(\"CartPole-v1\",render_mode=\"rgb_array\"), stream_info)"
      ]
    },
    {
      "cell_type": "code",
      "execution_count": null,
      "metadata": {
        "id": "8nj5sjsk15IT"
      },
      "outputs": [],
      "source": [
        "# print(env.action_space)\n",
        "try:\n",
        "    observation, info = env.reset()\n",
        "    i = 0\n",
        "    while True:\n",
        "        if i == 100:\n",
        "            break\n",
        "\n",
        "        env.render()  # important to call render method on env !!\n",
        "        action = env.action_space.sample() \n",
        "        observation, reward, terminated, truncated, info = env.step(action)\n",
        "\n",
        "        if terminated:\n",
        "            env.reset()\n",
        "            i += 1\n",
        "except Exception as e:\n",
        "    print(e)\n",
        "finally:\n",
        "    env.close()"
      ]
    },
    {
      "cell_type": "markdown",
      "metadata": {
        "id": "GSb1PindTa2s"
      },
      "source": [
        "\n",
        "\n",
        "---\n",
        "\n",
        "\n",
        "### **Box2D Gym Envs:**\n",
        "\n",
        "---\n",
        "\n"
      ]
    },
    {
      "cell_type": "code",
      "execution_count": null,
      "metadata": {},
      "outputs": [],
      "source": [
        "import apt\n",
        "import apt.debfile\n",
        "\n",
        "cache = apt.Cache()\n",
        "cache.update()\n",
        "cache.open(None)\n",
        "cache.commit()\n",
        "\n",
        "pkg = cache[\"swig3.0\"]\n",
        "if pkg.is_installed:\n",
        "  print(\"swig3.0 is already installed !\")\n",
        "else:\n",
        "  print(\"Installing swig3.0 ...\")\n",
        "  pkg.mark_install()\n",
        "  print(\"Installed!\")\n",
        "cache.commit()\n",
        "!ln -s /usr/bin/swig3.0 /usr/bin/swig"
      ]
    },
    {
      "cell_type": "code",
      "execution_count": null,
      "metadata": {
        "id": "7__S6qoNTh2A"
      },
      "outputs": [],
      "source": [
        "!pip install gymnasium[box2d] # might take a while"
      ]
    },
    {
      "cell_type": "code",
      "execution_count": null,
      "metadata": {
        "colab": {
          "base_uri": "https://localhost:8080/"
        },
        "id": "SXmZQsE4TkV8",
        "outputId": "ec5989bb-feda-4a7a-df96-fcdc49cc90d8"
      },
      "outputs": [
        {
          "name": "stdout",
          "output_type": "stream",
          "text": [
            "------------------------------------------------------------------------------------------------------------------------\n",
            "Video Streaming Wrapper is ready to stream!!\n"
          ]
        }
      ],
      "source": [
        "env = VideoStreamer(gym.make(\"LunarLanderContinuous-v2\",render_mode=\"rgb_array\"), stream_info) # => [min 50 episode]\n",
        "\n",
        "# env = VideoStreamer(gym.make(\"BipedalWalker-v3\"), stream_info)  # => [min 25 episode]"
      ]
    },
    {
      "cell_type": "code",
      "execution_count": null,
      "metadata": {
        "id": "bxpGiKe_hdWX"
      },
      "outputs": [],
      "source": [
        "# print(env.action_space)\n",
        "try:\n",
        "    observation, info = env.reset()\n",
        "    i = 0\n",
        "    while True:\n",
        "        if i == 100:\n",
        "            break\n",
        "\n",
        "        env.render()  # important to call render method on env !!\n",
        "        action = env.action_space.sample() \n",
        "        observation, reward, terminated, truncated, info = env.step(action)\n",
        "\n",
        "        if terminated:\n",
        "            env.reset()\n",
        "            i += 1\n",
        "except Exception as e:\n",
        "    print(e)\n",
        "finally:\n",
        "    env.close()"
      ]
    },
    {
      "cell_type": "markdown",
      "metadata": {
        "id": "Nf9gUTLBTFXo"
      },
      "source": [
        "\n",
        "\n",
        "---\n",
        "\n",
        "\n",
        "### **Atari Gym Envs:**\n",
        "\n",
        "\n",
        "---\n",
        "\n",
        "\n",
        "###### **Gives the setup error on Colab.**\n",
        "\n",
        "Error:\n",
        "> Exception: ROM is missing for breakout, see https://github.com/openai/atari-py#roms for instructions\n",
        "\n"
      ]
    },
    {
      "cell_type": "code",
      "execution_count": null,
      "metadata": {
        "id": "slv6qsuhR3g5"
      },
      "outputs": [],
      "source": [
        "# ---- {Atari envs} ----\n",
        "# env = VideoStreamer(gym.make(\"Breakout-v0\"), stream_info)"
      ]
    },
    {
      "cell_type": "markdown",
      "metadata": {
        "id": "syFKiFB7TItV"
      },
      "source": [
        "---\n",
        "\n",
        "\n",
        "### **MuJoCo & Robotics Gym Envs:**\n",
        "\n",
        "\n",
        "---"
      ]
    },
    {
      "cell_type": "code",
      "execution_count": null,
      "metadata": {},
      "outputs": [],
      "source": [
        "!pip install gymnasium[mujoco]"
      ]
    },
    {
      "cell_type": "code",
      "execution_count": null,
      "metadata": {},
      "outputs": [],
      "source": [
        "# Make sure to be running GPU for this to work\n",
        "NVIDIA_ICD_CONFIG_PATH = '/usr/share/glvnd/egl_vendor.d/10_nvidia.json'\n",
        "if not os.path.exists(NVIDIA_ICD_CONFIG_PATH):\n",
        "  with open(NVIDIA_ICD_CONFIG_PATH, 'w') as f:\n",
        "    f.write(\"\"\"{\n",
        "    \"file_format_version\" : \"1.0.0\",\n",
        "    \"ICD\" : {\n",
        "        \"library_path\" : \"libEGL_nvidia.so.0\"\n",
        "    }\n",
        "}\n",
        "\"\"\")\n",
        "%env MUJOCO_GL=egl"
      ]
    },
    {
      "cell_type": "code",
      "execution_count": null,
      "metadata": {
        "id": "s2JYA0upTM0O"
      },
      "outputs": [],
      "source": [
        "# ---- {MuJoCo env category} ----\n",
        "env = VideoStreamer(gym.make(\"Ant-v4\",render_mode=\"rgb_array\"), stream_info)\n",
        "\n",
        "# ---- {Robotics env category} [This also depends on MuJoCo] ----\n",
        "# env = VideoStreamer(gym.make(\"FetchPickAndPlace-v1\"), stream_info)"
      ]
    },
    {
      "cell_type": "code",
      "execution_count": null,
      "metadata": {},
      "outputs": [],
      "source": [
        "# print(env.action_space)\n",
        "try:\n",
        "    observation, info = env.reset()\n",
        "    i = 0\n",
        "    while True:\n",
        "        if i == 100:\n",
        "            break\n",
        "\n",
        "        env.render()  # important to call render method on env !!\n",
        "        action = env.action_space.sample() \n",
        "        observation, reward, terminated, truncated, info = env.step(action)[0]\n",
        "\n",
        "        if terminated:\n",
        "            env.reset()\n",
        "            i += 1\n",
        "except Exception as e:\n",
        "    print(e)\n",
        "finally:\n",
        "    env.close()"
      ]
    }
  ],
  "metadata": {
    "colab": {
      "collapsed_sections": [],
      "name": "Streaming Gym Envs from Colab -v1.0.ipynb",
      "provenance": []
    },
    "kernelspec": {
      "display_name": "Python 3",
      "name": "python3"
    }
  },
  "nbformat": 4,
  "nbformat_minor": 0
}
